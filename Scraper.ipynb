{
 "cells": [
  {
   "cell_type": "code",
   "execution_count": 2,
   "metadata": {},
   "outputs": [],
   "source": [
    "from selenium import webdriver\n",
    "from datetime import datetime\n",
    "import time\n",
    "import re\n",
    "import numpy as np\n",
    "\n"
   ]
  },
  {
   "cell_type": "code",
   "execution_count": 5,
   "metadata": {},
   "outputs": [],
   "source": [
    "options = webdriver.ChromeOptions()\n",
    "options.add_argument(\"--ignore-certificate-errors\")\n",
    "options.add_argument(\"--incognito\")\n",
    "options.add_argument(\"--headless\")"
   ]
  },
  {
   "cell_type": "code",
   "execution_count": 7,
   "metadata": {},
   "outputs": [
    {
     "name": "stdout",
     "output_type": "stream",
     "text": [
      "10681\n",
      "Found one!\n",
      "Højstrupvangens Parkering\n",
      "Close\n",
      "3/4 available\n",
      "Type 2 AC 22kW (regular)\n",
      "Højstrupvangen 1, 5200, Odense V\n",
      "Døgnåbent\n",
      "P-pladsen er lige over for Odense Idrætspark og Odense Stadion,ved gildehuset.\n",
      "10682\n",
      "10683\n",
      "10684\n",
      "10685\n",
      "10686\n",
      "Found one!\n",
      "Station Øst, Kalundborg\n",
      "Close\n",
      "1/4 available\n",
      "Type 2 AC 22kW (regular)\n",
      "Stejlhøj, 4400, Kalundborg\n",
      "Døgnåbent\n",
      "10687\n",
      "Found one!\n",
      "Toosbuys Torv\n",
      "Close\n",
      "1/2 available\n",
      "Type 2 AC 22kW (regular)\n",
      "Storegade 5, 6261, Bredebro\n",
      "Døgnåbent\n",
      "Toosbuys Torv - Indkørsel til P-plads ved jernbanen\n",
      "10688\n",
      "10689\n",
      "10690\n"
     ]
    }
   ],
   "source": [
    "browser = webdriver.Chrome(executable_path=\"C:\\Program Files\\Google\\ChromeDriver\\chromedriver.exe\",options=options)\n",
    "re_zoom = re.compile(\"&zoom=*[0-9]*&\")\n",
    "re_loc = re.compile(\"&location=*[0-9]*&\")\n",
    "for i in range(10):\n",
    "    i = i + 10681\n",
    "    print(i)\n",
    "    url  = \"https://ladekort.clever.dk/?lat=56.206627203265064&lng=12.38878514013157&zoom=7&location=\" + str(i) + \"&filter=regular,fast,ultra&status=upcoming,available,unavailable,outOfOrder\"\n",
    "    browser.get(url)\n",
    "\n",
    "\n",
    "    start_time = datetime.now()\n",
    "    break_= False\n",
    "    while True:\n",
    "        try: \n",
    "            element = browser.find_element_by_class_name(\"location-card\")\n",
    "            print(\"Found one!\")\n",
    "            print(element.text)\n",
    "            break\n",
    "        except: \n",
    "            if break_:\n",
    "                break\n",
    "            new_url=browser.current_url\n",
    "            #zoom_check=re.search(\"&zoom=*[0-9]*&\", new_url)\n",
    "            loc_check= re.search(\"&location=*[0-9]*&\", new_url).group(0)\n",
    "            \n",
    "            loc_True = (loc_check == \"&location&\")\n",
    "            if loc_True:\n",
    "                time.sleep(2)\n",
    "                break_ = True\n",
    "            pass\n",
    "\n",
    "\n",
    "    "
   ]
  },
  {
   "cell_type": "code",
   "execution_count": 27,
   "metadata": {},
   "outputs": [],
   "source": [
    "def scraper(input_to_url):\n",
    "\n",
    "    options = webdriver.ChromeOptions()\n",
    "    options.add_argument(\"--ignore-certificate-errors\")\n",
    "    options.add_argument(\"--incognito\")\n",
    "    options.add_argument(\"--headless\")\n",
    "\n",
    "    browser = webdriver.Chrome(executable_path=\"C:\\Program Files\\Google\\ChromeDriver\\chromedriver.exe\",options=options)\n",
    "\n",
    "    re_loc = re.compile(\"&location=*[0-9]*&\")\n",
    "    results = []\n",
    "    for i in input_to_url:\n",
    "        i = i + 999\n",
    "        url  = \"https://ladekort.clever.dk/?lat=56.206627203265064&lng=12.38878514013157&zoom=7&location=\" + str(i) + \"&filter=regular,fast,ultra&status=upcoming,available,unavailable,outOfOrder\"\n",
    "        browser.get(url)\n",
    "        break_= False\n",
    "        while True:\n",
    "            try: \n",
    "                element = browser.find_element_by_class_name(\"location-card\")\n",
    "                print(\"Found one!\")\n",
    "                print(element.text)\n",
    "                results.append(i)\n",
    "                break\n",
    "            except: \n",
    "                if break_:\n",
    "                    break\n",
    "                new_url=browser.current_url\n",
    "                #zoom_check=re.search(\"&zoom=*[0-9]*&\", new_url)\n",
    "                loc_check= re.search(re_loc, new_url).group(0)\n",
    "                \n",
    "                loc_True = (loc_check == \"&location&\")\n",
    "                if loc_True:\n",
    "                    time.sleep(2)\n",
    "                    break_ = True\n",
    "                pass\n",
    "    browser.close()\n",
    "    return results\n",
    "        \n",
    "\n",
    "\n",
    "def set_up_threads(input_to_url,max_workers):\n",
    "    with ThreadPoolExecutor(max_workers=max_workers) as executor:\n",
    "        return executor.map(scraper,    \n",
    "                            input_to_url,\n",
    "                            timeout = 60)\n",
    "\n",
    "        "
   ]
  },
  {
   "cell_type": "code",
   "execution_count": 28,
   "metadata": {},
   "outputs": [],
   "source": [
    "from concurrent.futures import ThreadPoolExecutor\n",
    "import threading\n",
    "\n",
    "workers = 7\n",
    "\n",
    "url_list = np.array_split(np.arange(3000), workers)\n",
    "\n",
    "charger_stations=set_up_threads(url_list, workers)\n",
    "\n"
   ]
  },
  {
   "cell_type": "code",
   "execution_count": 19,
   "metadata": {},
   "outputs": [
    {
     "data": {
      "text/plain": [
       "[2, 3, 4]"
      ]
     },
     "execution_count": 19,
     "metadata": {},
     "output_type": "execute_result"
    }
   ],
   "source": []
  },
  {
   "cell_type": "code",
   "execution_count": 26,
   "metadata": {},
   "outputs": [
    {
     "data": {
      "text/plain": [
       "[[10681, 10686, 10692],\n",
       " [],\n",
       " [10711],\n",
       " [10737],\n",
       " [10743, 10752],\n",
       " [10756, 10758, 10759, 10761, 10763],\n",
       " [10774]]"
      ]
     },
     "execution_count": 26,
     "metadata": {},
     "output_type": "execute_result"
    }
   ],
   "source": [
    "list(charger_stations)"
   ]
  },
  {
   "cell_type": "code",
   "execution_count": 127,
   "metadata": {},
   "outputs": [
    {
     "data": {
      "text/plain": [
       "False"
      ]
     },
     "execution_count": 127,
     "metadata": {},
     "output_type": "execute_result"
    }
   ],
   "source": [
    "loc_true = (zoom_check == \"&location&\")\n",
    "loc_true"
   ]
  },
  {
   "cell_type": "code",
   "execution_count": 118,
   "metadata": {},
   "outputs": [
    {
     "name": "stdout",
     "output_type": "stream",
     "text": [
      "None\n"
     ]
    }
   ],
   "source": [
    "x = re.search(loc_check.string, '&location=*[0-9]*&')\n",
    "print(x)\n"
   ]
  }
 ],
 "metadata": {
  "interpreter": {
   "hash": "2274e060222eb36e66e0b601fc1f599242ae84a9584f6467ee18162c4b6ca902"
  },
  "kernelspec": {
   "display_name": "Python 3.8.11 ('base')",
   "language": "python",
   "name": "python3"
  },
  "language_info": {
   "codemirror_mode": {
    "name": "ipython",
    "version": 3
   },
   "file_extension": ".py",
   "mimetype": "text/x-python",
   "name": "python",
   "nbconvert_exporter": "python",
   "pygments_lexer": "ipython3",
   "version": "3.8.11"
  },
  "orig_nbformat": 4
 },
 "nbformat": 4,
 "nbformat_minor": 2
}
