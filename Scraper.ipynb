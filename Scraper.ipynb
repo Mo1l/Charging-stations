{
 "cells": [
  {
   "cell_type": "code",
   "execution_count": 2,
   "metadata": {},
   "outputs": [],
   "source": [
    "from selenium import webdriver\n",
    "from datetime import datetime\n",
    "import time\n",
    "import re\n",
    "\n"
   ]
  },
  {
   "cell_type": "code",
   "execution_count": 47,
   "metadata": {},
   "outputs": [],
   "source": [
    "url = \"https://ladekort.clever.dk/?lat=56.206627203265064&lng=12.38878514013157&zoom=7&location&filter=regular,fast,ultra&status=upcoming,available,unavailable,outOfOrder\"\n",
    "#url = \"https://ladekort.clever.dk/?lat=55.397408&lng=10.347804&zoom=15&location=10681&filter=regular,fast,ultra&status=available,outOfOrder,upcoming,unavailable\""
   ]
  },
  {
   "cell_type": "code",
   "execution_count": 55,
   "metadata": {},
   "outputs": [],
   "source": [
    "browser = webdriver.Chrome(executable_path=\"C:\\Program Files\\Google\\ChromeDriver\\chromedriver.exe\")\n",
    "browser.get(url)\n",
    "element = browser.find_element_by_class_name(\"panel-container\")\n",
    "#element = browser.find_element_by_class_name(\"gm-style\")\n"
   ]
  },
  {
   "cell_type": "code",
   "execution_count": 56,
   "metadata": {},
   "outputs": [
    {
     "data": {
      "text/plain": [
       "'Find et ladepunkt\\nDu finder Clevers ladepunkter langs motorvejene, i byerne, hos virksomhederne, kommunerne, indkøbscentre, parkeringshuse og boligforeninger – og bus-, tog- og metrostationer. Og der kommer nye til hele tiden\\nLocate\\nOpladningshastigheder - Alle\\nLadenetværk\\n20.000 offentlige ladepunkter i 2025\\nLæs mere om udbygningen\\nClever produkter\\nNem opladning - Fuld frihed\\nSe vores produktudvalg\\nHent Clevers App\\nMed Clevers app i lommen er du aldrig langt fra næste opladning på Danmarks stærkeste netværk.\\nANDROID\\nIPHONE'"
      ]
     },
     "execution_count": 56,
     "metadata": {},
     "output_type": "execute_result"
    }
   ],
   "source": [
    "element.text"
   ]
  },
  {
   "cell_type": "code",
   "execution_count": 62,
   "metadata": {},
   "outputs": [
    {
     "name": "stdout",
     "output_type": "stream",
     "text": [
      "False\n",
      "True\n"
     ]
    }
   ],
   "source": [
    "browser = webdriver.Chrome(executable_path=\"C:\\Program Files\\Google\\ChromeDriver\\chromedriver.exe\")\n",
    "\n",
    "useless = 'Find et ladepunkt\\nDu finder Clevers ladepunkter langs motorvejene, i byerne, hos virksomhederne, kommunerne, indkøbscentre, parkeringshuse og boligforeninger – og bus-, tog- og metrostationer. Og der kommer nye til hele tiden\\nLocate\\nOpladningshastigheder - Alle\\nLadenetværk\\n20.000 offentlige ladepunkter i 2025\\nLæs mere om udbygningen\\nClever produkter\\nNem opladning - Fuld frihed\\nSe vores produktudvalg\\nHent Clevers App\\nMed Clevers app i lommen er du aldrig langt fra næste opladning på Danmarks stærkeste netværk.\\nANDROID\\nIPHONE'\n",
    "\n",
    "\n",
    "for i in range(2):\n",
    "    url  = \"https://ladekort.clever.dk/?lat=56.206627203265064&lng=12.38878514013157&zoom=7&location=\" + str(i) + \"filter=regular,fast,ultra&status=upcoming,available,unavailable,outOfOrder\"\n",
    "    browser.get(url)\n",
    "    element = browser.find_element_by_class_name(\"panel-container\")\n",
    "    print(element.text != useless)\n",
    "    \n",
    "\n"
   ]
  },
  {
   "cell_type": "code",
   "execution_count": 5,
   "metadata": {},
   "outputs": [],
   "source": [
    "options = webdriver.ChromeOptions()\n",
    "options.add_argument(\"--ignore-certificate-errors\")\n",
    "options.add_argument(\"--incognito\")\n",
    "options.add_argument(\"--headless\")"
   ]
  },
  {
   "cell_type": "code",
   "execution_count": 7,
   "metadata": {},
   "outputs": [
    {
     "name": "stdout",
     "output_type": "stream",
     "text": [
      "10681\n",
      "Found one!\n",
      "Højstrupvangens Parkering\n",
      "Close\n",
      "3/4 available\n",
      "Type 2 AC 22kW (regular)\n",
      "Højstrupvangen 1, 5200, Odense V\n",
      "Døgnåbent\n",
      "P-pladsen er lige over for Odense Idrætspark og Odense Stadion,ved gildehuset.\n",
      "10682\n",
      "10683\n",
      "10684\n",
      "10685\n",
      "10686\n",
      "Found one!\n",
      "Station Øst, Kalundborg\n",
      "Close\n",
      "1/4 available\n",
      "Type 2 AC 22kW (regular)\n",
      "Stejlhøj, 4400, Kalundborg\n",
      "Døgnåbent\n",
      "10687\n",
      "Found one!\n",
      "Toosbuys Torv\n",
      "Close\n",
      "1/2 available\n",
      "Type 2 AC 22kW (regular)\n",
      "Storegade 5, 6261, Bredebro\n",
      "Døgnåbent\n",
      "Toosbuys Torv - Indkørsel til P-plads ved jernbanen\n",
      "10688\n",
      "10689\n",
      "10690\n"
     ]
    }
   ],
   "source": [
    "browser = webdriver.Chrome(executable_path=\"C:\\Program Files\\Google\\ChromeDriver\\chromedriver.exe\",options=options)\n",
    "re_zoom = re.compile(\"&zoom=*[0-9]*&\")\n",
    "re_loc = re.compile(\"&location=*[0-9]*&\")\n",
    "for i in range(10):\n",
    "    i = i + 10681\n",
    "    print(i)\n",
    "    url  = \"https://ladekort.clever.dk/?lat=56.206627203265064&lng=12.38878514013157&zoom=7&location=\" + str(i) + \"&filter=regular,fast,ultra&status=upcoming,available,unavailable,outOfOrder\"\n",
    "    browser.get(url)\n",
    "\n",
    "\n",
    "    start_time = datetime.now()\n",
    "    break_= False\n",
    "    while True:\n",
    "        try: \n",
    "            element = browser.find_element_by_class_name(\"location-card\")\n",
    "            print(\"Found one!\")\n",
    "            print(element.text)\n",
    "            break\n",
    "        except: \n",
    "            if break_:\n",
    "                break\n",
    "            new_url=browser.current_url\n",
    "            #zoom_check=re.search(\"&zoom=*[0-9]*&\", new_url)\n",
    "            loc_check= re.search(\"&location=*[0-9]*&\", new_url).group(0)\n",
    "            \n",
    "            loc_True = (loc_check == \"&location&\")\n",
    "            if loc_True:\n",
    "                time.sleep(2)\n",
    "                break_ = True\n",
    "            pass\n",
    "\n",
    "\n",
    "    "
   ]
  },
  {
   "cell_type": "code",
   "execution_count": null,
   "metadata": {},
   "outputs": [],
   "source": [
    "def scraper(input_to_url):\n",
    "\n",
    "    options = webdriver.ChromeOptions()\n",
    "    options.add_argument(\"--ignore-certificate-errors\")\n",
    "    options.add_argument(\"--incognito\")\n",
    "    options.add_argument(\"--headless\")\n",
    "\n",
    "    browser = webdriver.Chrome(executable_path=\"C:\\Program Files\\Google\\ChromeDriver\\chromedriver.exe\",options=options)\n",
    "\n",
    "    re_loc = re.compile(\"&location=*[0-9]*&\")\n",
    "    for i in input_to_url:\n",
    "        print(i)\n",
    "        url  = \"https://ladekort.clever.dk/?lat=56.206627203265064&lng=12.38878514013157&zoom=7&location=\" + str(i) + \"&filter=regular,fast,ultra&status=upcoming,available,unavailable,outOfOrder\"\n",
    "        browser.get(url)\n",
    "        break_= False\n",
    "\n",
    "        while True:\n",
    "            try: \n",
    "                element = browser.find_element_by_class_name(\"location-card\")\n",
    "                print(\"Found one!\")\n",
    "                print(element.text)\n",
    "                break\n",
    "            except: \n",
    "                if break_:\n",
    "                    break\n",
    "                new_url=browser.current_url\n",
    "                #zoom_check=re.search(\"&zoom=*[0-9]*&\", new_url)\n",
    "                loc_check= re.search(re_loc, new_url).group(0)\n",
    "                \n",
    "                loc_True = (loc_check == \"&location&\")\n",
    "                if loc_True:\n",
    "                    time.sleep(2)\n",
    "                    break_ = True\n",
    "                pass"
   ]
  },
  {
   "cell_type": "code",
   "execution_count": null,
   "metadata": {},
   "outputs": [],
   "source": []
  },
  {
   "cell_type": "code",
   "execution_count": 21,
   "metadata": {},
   "outputs": [
    {
     "data": {
      "text/plain": [
       "<bound method WebElement.get_attribute of <selenium.webdriver.remote.webelement.WebElement (session=\"96fc4e692f6e42d57b76b9f29f17e3b5\", element=\"3053ba88-e4cb-4f29-92e2-7e57e0478845\")>>"
      ]
     },
     "execution_count": 21,
     "metadata": {},
     "output_type": "execute_result"
    }
   ],
   "source": [
    "element.get_attribute"
   ]
  },
  {
   "cell_type": "code",
   "execution_count": 127,
   "metadata": {},
   "outputs": [
    {
     "data": {
      "text/plain": [
       "False"
      ]
     },
     "execution_count": 127,
     "metadata": {},
     "output_type": "execute_result"
    }
   ],
   "source": [
    "loc_true = (zoom_check == \"&location&\")\n",
    "loc_true\n"
   ]
  },
  {
   "cell_type": "code",
   "execution_count": 118,
   "metadata": {},
   "outputs": [
    {
     "name": "stdout",
     "output_type": "stream",
     "text": [
      "None\n"
     ]
    }
   ],
   "source": [
    "x = re.search(loc_check.string, '&location=*[0-9]*&')\n",
    "print(x)\n"
   ]
  }
 ],
 "metadata": {
  "interpreter": {
   "hash": "2274e060222eb36e66e0b601fc1f599242ae84a9584f6467ee18162c4b6ca902"
  },
  "kernelspec": {
   "display_name": "Python 3.8.11 ('base')",
   "language": "python",
   "name": "python3"
  },
  "language_info": {
   "codemirror_mode": {
    "name": "ipython",
    "version": 3
   },
   "file_extension": ".py",
   "mimetype": "text/x-python",
   "name": "python",
   "nbconvert_exporter": "python",
   "pygments_lexer": "ipython3",
   "version": "3.8.11"
  },
  "orig_nbformat": 4
 },
 "nbformat": 4,
 "nbformat_minor": 2
}
